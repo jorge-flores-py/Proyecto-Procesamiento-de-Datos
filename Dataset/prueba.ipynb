{
 "cells": [
  {
   "cell_type": "code",
   "execution_count": 2,
   "metadata": {},
   "outputs": [],
   "source": [
    "import pandas as pd\n",
    "import polars as pl"
   ]
  },
  {
   "cell_type": "code",
   "execution_count": null,
   "metadata": {},
   "outputs": [
    {
     "data": {
      "text/html": [
       "<div>\n",
       "<style scoped>\n",
       "    .dataframe tbody tr th:only-of-type {\n",
       "        vertical-align: middle;\n",
       "    }\n",
       "\n",
       "    .dataframe tbody tr th {\n",
       "        vertical-align: top;\n",
       "    }\n",
       "\n",
       "    .dataframe thead th {\n",
       "        text-align: right;\n",
       "    }\n",
       "</style>\n",
       "<table border=\"1\" class=\"dataframe\">\n",
       "  <thead>\n",
       "    <tr style=\"text-align: right;\">\n",
       "      <th></th>\n",
       "      <th>ID</th>\n",
       "      <th>Name</th>\n",
       "      <th>Alignment</th>\n",
       "      <th>Gender</th>\n",
       "      <th>EyeColor</th>\n",
       "      <th>Race</th>\n",
       "      <th>HairColor</th>\n",
       "      <th>Publisher</th>\n",
       "      <th>SkinColor</th>\n",
       "      <th>Height</th>\n",
       "      <th>Weight</th>\n",
       "    </tr>\n",
       "  </thead>\n",
       "  <tbody>\n",
       "    <tr>\n",
       "      <th>0</th>\n",
       "      <td>0</td>\n",
       "      <td>A-Bomb</td>\n",
       "      <td>good</td>\n",
       "      <td>Male</td>\n",
       "      <td>yellow</td>\n",
       "      <td>Human</td>\n",
       "      <td>No Hair</td>\n",
       "      <td>Marvel Comics</td>\n",
       "      <td>-</td>\n",
       "      <td>203.0</td>\n",
       "      <td>441.0</td>\n",
       "    </tr>\n",
       "    <tr>\n",
       "      <th>1</th>\n",
       "      <td>1</td>\n",
       "      <td>Abe Sapien</td>\n",
       "      <td>good</td>\n",
       "      <td>Male</td>\n",
       "      <td>blue</td>\n",
       "      <td>Icthyo Sapien</td>\n",
       "      <td>No Hair</td>\n",
       "      <td>Dark Horse Comics</td>\n",
       "      <td>blue</td>\n",
       "      <td>191.0</td>\n",
       "      <td>65.0</td>\n",
       "    </tr>\n",
       "    <tr>\n",
       "      <th>2</th>\n",
       "      <td>2</td>\n",
       "      <td>Abin Sur</td>\n",
       "      <td>good</td>\n",
       "      <td>Male</td>\n",
       "      <td>blue</td>\n",
       "      <td>Ungaran</td>\n",
       "      <td>No Hair</td>\n",
       "      <td>DC Comics</td>\n",
       "      <td>red</td>\n",
       "      <td>185.0</td>\n",
       "      <td>90.0</td>\n",
       "    </tr>\n",
       "    <tr>\n",
       "      <th>3</th>\n",
       "      <td>3</td>\n",
       "      <td>Abomination</td>\n",
       "      <td>bad</td>\n",
       "      <td>Male</td>\n",
       "      <td>green</td>\n",
       "      <td>Human / Radiation</td>\n",
       "      <td>No Hair</td>\n",
       "      <td>Marvel Comics</td>\n",
       "      <td>-</td>\n",
       "      <td>203.0</td>\n",
       "      <td>441.0</td>\n",
       "    </tr>\n",
       "    <tr>\n",
       "      <th>4</th>\n",
       "      <td>4</td>\n",
       "      <td>Abraxas</td>\n",
       "      <td>bad</td>\n",
       "      <td>Male</td>\n",
       "      <td>blue</td>\n",
       "      <td>Cosmic Entity</td>\n",
       "      <td>Black</td>\n",
       "      <td>Marvel Comics</td>\n",
       "      <td>-</td>\n",
       "      <td>-99.0</td>\n",
       "      <td>-99.0</td>\n",
       "    </tr>\n",
       "    <tr>\n",
       "      <th>...</th>\n",
       "      <td>...</td>\n",
       "      <td>...</td>\n",
       "      <td>...</td>\n",
       "      <td>...</td>\n",
       "      <td>...</td>\n",
       "      <td>...</td>\n",
       "      <td>...</td>\n",
       "      <td>...</td>\n",
       "      <td>...</td>\n",
       "      <td>...</td>\n",
       "      <td>...</td>\n",
       "    </tr>\n",
       "    <tr>\n",
       "      <th>729</th>\n",
       "      <td>729</td>\n",
       "      <td>Yellowjacket II</td>\n",
       "      <td>good</td>\n",
       "      <td>Female</td>\n",
       "      <td>blue</td>\n",
       "      <td>Human</td>\n",
       "      <td>Strawberry Blond</td>\n",
       "      <td>Marvel Comics</td>\n",
       "      <td>-</td>\n",
       "      <td>165.0</td>\n",
       "      <td>52.0</td>\n",
       "    </tr>\n",
       "    <tr>\n",
       "      <th>730</th>\n",
       "      <td>730</td>\n",
       "      <td>Ymir</td>\n",
       "      <td>good</td>\n",
       "      <td>Male</td>\n",
       "      <td>white</td>\n",
       "      <td>Frost Giant</td>\n",
       "      <td>No Hair</td>\n",
       "      <td>Marvel Comics</td>\n",
       "      <td>white</td>\n",
       "      <td>304.8</td>\n",
       "      <td>-99.0</td>\n",
       "    </tr>\n",
       "    <tr>\n",
       "      <th>731</th>\n",
       "      <td>731</td>\n",
       "      <td>Yoda</td>\n",
       "      <td>good</td>\n",
       "      <td>Male</td>\n",
       "      <td>brown</td>\n",
       "      <td>Yoda's species</td>\n",
       "      <td>White</td>\n",
       "      <td>George Lucas</td>\n",
       "      <td>green</td>\n",
       "      <td>66.0</td>\n",
       "      <td>17.0</td>\n",
       "    </tr>\n",
       "    <tr>\n",
       "      <th>732</th>\n",
       "      <td>732</td>\n",
       "      <td>Zatanna</td>\n",
       "      <td>good</td>\n",
       "      <td>Female</td>\n",
       "      <td>blue</td>\n",
       "      <td>Human</td>\n",
       "      <td>Black</td>\n",
       "      <td>DC Comics</td>\n",
       "      <td>-</td>\n",
       "      <td>170.0</td>\n",
       "      <td>57.0</td>\n",
       "    </tr>\n",
       "    <tr>\n",
       "      <th>733</th>\n",
       "      <td>733</td>\n",
       "      <td>Zoom</td>\n",
       "      <td>bad</td>\n",
       "      <td>Male</td>\n",
       "      <td>red</td>\n",
       "      <td>-</td>\n",
       "      <td>Brown</td>\n",
       "      <td>DC Comics</td>\n",
       "      <td>-</td>\n",
       "      <td>185.0</td>\n",
       "      <td>81.0</td>\n",
       "    </tr>\n",
       "  </tbody>\n",
       "</table>\n",
       "<p>734 rows × 11 columns</p>\n",
       "</div>"
      ],
      "text/plain": [
       "      ID             Name Alignment  Gender EyeColor               Race   \n",
       "0      0           A-Bomb      good    Male   yellow              Human  \\\n",
       "1      1       Abe Sapien      good    Male     blue      Icthyo Sapien   \n",
       "2      2         Abin Sur      good    Male     blue            Ungaran   \n",
       "3      3      Abomination       bad    Male    green  Human / Radiation   \n",
       "4      4          Abraxas       bad    Male     blue      Cosmic Entity   \n",
       "..   ...              ...       ...     ...      ...                ...   \n",
       "729  729  Yellowjacket II      good  Female     blue              Human   \n",
       "730  730             Ymir      good    Male    white        Frost Giant   \n",
       "731  731             Yoda      good    Male    brown     Yoda's species   \n",
       "732  732          Zatanna      good  Female     blue              Human   \n",
       "733  733             Zoom       bad    Male      red                  -   \n",
       "\n",
       "            HairColor          Publisher SkinColor  Height  Weight  \n",
       "0             No Hair      Marvel Comics         -   203.0   441.0  \n",
       "1             No Hair  Dark Horse Comics      blue   191.0    65.0  \n",
       "2             No Hair          DC Comics       red   185.0    90.0  \n",
       "3             No Hair      Marvel Comics         -   203.0   441.0  \n",
       "4               Black      Marvel Comics         -   -99.0   -99.0  \n",
       "..                ...                ...       ...     ...     ...  \n",
       "729  Strawberry Blond      Marvel Comics         -   165.0    52.0  \n",
       "730           No Hair      Marvel Comics     white   304.8   -99.0  \n",
       "731             White       George Lucas     green    66.0    17.0  \n",
       "732             Black          DC Comics         -   170.0    57.0  \n",
       "733             Brown          DC Comics         -   185.0    81.0  \n",
       "\n",
       "[734 rows x 11 columns]"
      ]
     },
     "execution_count": 31,
     "metadata": {},
     "output_type": "execute_result"
    }
   ],
   "source": [
    "df = pd.read_csv('superheroes.csv', sep= ';')\n",
    "df"
   ]
  },
  {
   "cell_type": "code",
   "execution_count": 44,
   "metadata": {},
   "outputs": [],
   "source": [
    "def xlsx_to_csv(archivo, archivo_transformado):\n",
    "    data = pd.read_excel(archivo)\n",
    "    data.to_csv(archivo_transformado, index=False)\n",
    "\n"
   ]
  },
  {
   "cell_type": "code",
   "execution_count": 45,
   "metadata": {},
   "outputs": [],
   "source": [
    "import os\n",
    "archivo = 'superheroes.xlsx'\n",
    "archivo_transformado = 'prueba.csv'\n",
    "xlsx_to_csv(archivo,archivo_transformado)"
   ]
  },
  {
   "cell_type": "code",
   "execution_count": 3,
   "metadata": {},
   "outputs": [
    {
     "data": {
      "text/html": [
       "<div><style>\n",
       ".dataframe > thead > tr > th,\n",
       ".dataframe > tbody > tr > td {\n",
       "  text-align: right;\n",
       "}\n",
       "</style>\n",
       "<small>shape: (5, 11)</small><table border=\"1\" class=\"dataframe\"><thead><tr><th>ID</th><th>Name</th><th>Alignment</th><th>Gender</th><th>EyeColor</th><th>Race</th><th>HairColor</th><th>Publisher</th><th>SkinColor</th><th>Height</th><th>Weight</th></tr><tr><td>i64</td><td>str</td><td>str</td><td>str</td><td>str</td><td>str</td><td>str</td><td>str</td><td>str</td><td>f64</td><td>f64</td></tr></thead><tbody><tr><td>0</td><td>&quot;A-Bomb&quot;</td><td>&quot;good&quot;</td><td>&quot;Male&quot;</td><td>&quot;yellow&quot;</td><td>&quot;Human&quot;</td><td>&quot;No Hair&quot;</td><td>&quot;Marvel Comics&quot;</td><td>&quot;-&quot;</td><td>203.0</td><td>441.0</td></tr><tr><td>1</td><td>&quot;Abe Sapien&quot;</td><td>&quot;good&quot;</td><td>&quot;Male&quot;</td><td>&quot;blue&quot;</td><td>&quot;Icthyo Sapien&quot;</td><td>&quot;No Hair&quot;</td><td>&quot;Dark Horse Com…</td><td>&quot;blue&quot;</td><td>191.0</td><td>65.0</td></tr><tr><td>2</td><td>&quot;Abin Sur&quot;</td><td>&quot;good&quot;</td><td>&quot;Male&quot;</td><td>&quot;blue&quot;</td><td>&quot;Ungaran&quot;</td><td>&quot;No Hair&quot;</td><td>&quot;DC Comics&quot;</td><td>&quot;red&quot;</td><td>185.0</td><td>90.0</td></tr><tr><td>3</td><td>&quot;Abomination&quot;</td><td>&quot;bad&quot;</td><td>&quot;Male&quot;</td><td>&quot;green&quot;</td><td>&quot;Human / Radiat…</td><td>&quot;No Hair&quot;</td><td>&quot;Marvel Comics&quot;</td><td>&quot;-&quot;</td><td>203.0</td><td>441.0</td></tr><tr><td>4</td><td>&quot;Abraxas&quot;</td><td>&quot;bad&quot;</td><td>&quot;Male&quot;</td><td>&quot;blue&quot;</td><td>&quot;Cosmic Entity&quot;</td><td>&quot;Black&quot;</td><td>&quot;Marvel Comics&quot;</td><td>&quot;-&quot;</td><td>-99.0</td><td>-99.0</td></tr></tbody></table></div>"
      ],
      "text/plain": [
       "shape: (5, 11)\n",
       "┌─────┬─────────────┬───────────┬────────┬───┬───────────────────┬───────────┬────────┬────────┐\n",
       "│ ID  ┆ Name        ┆ Alignment ┆ Gender ┆ … ┆ Publisher         ┆ SkinColor ┆ Height ┆ Weight │\n",
       "│ --- ┆ ---         ┆ ---       ┆ ---    ┆   ┆ ---               ┆ ---       ┆ ---    ┆ ---    │\n",
       "│ i64 ┆ str         ┆ str       ┆ str    ┆   ┆ str               ┆ str       ┆ f64    ┆ f64    │\n",
       "╞═════╪═════════════╪═══════════╪════════╪═══╪═══════════════════╪═══════════╪════════╪════════╡\n",
       "│ 0   ┆ A-Bomb      ┆ good      ┆ Male   ┆ … ┆ Marvel Comics     ┆ -         ┆ 203.0  ┆ 441.0  │\n",
       "│ 1   ┆ Abe Sapien  ┆ good      ┆ Male   ┆ … ┆ Dark Horse Comics ┆ blue      ┆ 191.0  ┆ 65.0   │\n",
       "│ 2   ┆ Abin Sur    ┆ good      ┆ Male   ┆ … ┆ DC Comics         ┆ red       ┆ 185.0  ┆ 90.0   │\n",
       "│ 3   ┆ Abomination ┆ bad       ┆ Male   ┆ … ┆ Marvel Comics     ┆ -         ┆ 203.0  ┆ 441.0  │\n",
       "│ 4   ┆ Abraxas     ┆ bad       ┆ Male   ┆ … ┆ Marvel Comics     ┆ -         ┆ -99.0  ┆ -99.0  │\n",
       "└─────┴─────────────┴───────────┴────────┴───┴───────────────────┴───────────┴────────┴────────┘"
      ]
     },
     "execution_count": 3,
     "metadata": {},
     "output_type": "execute_result"
    }
   ],
   "source": [
    "df_p = pl.read_csv('prueba.csv')\n",
    "df_p.head(5)"
   ]
  },
  {
   "attachments": {},
   "cell_type": "markdown",
   "metadata": {},
   "source": [
    "Cantidad de:\n",
    "-\teditora con más s.h(superhéroes)\n",
    "-\tS.h buenos \n",
    "-\tS.h malos\n",
    "-\tS.h mujeres\n",
    "-\tS.h hombres\n",
    "-\tetc\n",
    "Cuál es la proporción total de s.h hombres y s.h mujeres? Entre las dos editoras con más s.h, como es la proporción de uno respecto al otro?\n",
    "Existe correlación entre s.h malos y color de ojos, o raza, o sexo, o peso, etc?\n",
    "Que editora tiene los s.h más altos, más pesados, etc\n",
    "Medidas de dispersión y centralidad de todos los s.h"
   ]
  },
  {
   "cell_type": "code",
   "execution_count": 4,
   "metadata": {},
   "outputs": [
    {
     "data": {
      "text/html": [
       "<div><style>\n",
       ".dataframe > thead > tr > th,\n",
       ".dataframe > tbody > tr > td {\n",
       "  text-align: right;\n",
       "}\n",
       "</style>\n",
       "<small>shape: (1, 11)</small><table border=\"1\" class=\"dataframe\"><thead><tr><th>ID</th><th>Name</th><th>Alignment</th><th>Gender</th><th>EyeColor</th><th>Race</th><th>HairColor</th><th>Publisher</th><th>SkinColor</th><th>Height</th><th>Weight</th></tr><tr><td>u32</td><td>u32</td><td>u32</td><td>u32</td><td>u32</td><td>u32</td><td>u32</td><td>u32</td><td>u32</td><td>u32</td><td>u32</td></tr></thead><tbody><tr><td>0</td><td>0</td><td>0</td><td>0</td><td>0</td><td>0</td><td>0</td><td>15</td><td>0</td><td>0</td><td>2</td></tr></tbody></table></div>"
      ],
      "text/plain": [
       "shape: (1, 11)\n",
       "┌─────┬──────┬───────────┬────────┬───┬───────────┬───────────┬────────┬────────┐\n",
       "│ ID  ┆ Name ┆ Alignment ┆ Gender ┆ … ┆ Publisher ┆ SkinColor ┆ Height ┆ Weight │\n",
       "│ --- ┆ ---  ┆ ---       ┆ ---    ┆   ┆ ---       ┆ ---       ┆ ---    ┆ ---    │\n",
       "│ u32 ┆ u32  ┆ u32       ┆ u32    ┆   ┆ u32       ┆ u32       ┆ u32    ┆ u32    │\n",
       "╞═════╪══════╪═══════════╪════════╪═══╪═══════════╪═══════════╪════════╪════════╡\n",
       "│ 0   ┆ 0    ┆ 0         ┆ 0      ┆ … ┆ 15        ┆ 0         ┆ 0      ┆ 2      │\n",
       "└─────┴──────┴───────────┴────────┴───┴───────────┴───────────┴────────┴────────┘"
      ]
     },
     "execution_count": 4,
     "metadata": {},
     "output_type": "execute_result"
    }
   ],
   "source": [
    "df_p.null_count() # Valores nulos por columnas"
   ]
  },
  {
   "cell_type": "code",
   "execution_count": 5,
   "metadata": {},
   "outputs": [
    {
     "data": {
      "text/plain": [
       "496"
      ]
     },
     "execution_count": 5,
     "metadata": {},
     "output_type": "execute_result"
    }
   ],
   "source": [
    "buenos = df_p.filter(pl.col('Alignment') == 'good').shape[0]\n",
    "buenos"
   ]
  },
  {
   "cell_type": "code",
   "execution_count": 6,
   "metadata": {},
   "outputs": [
    {
     "data": {
      "text/html": [
       "<div><style>\n",
       ".dataframe > thead > tr > th,\n",
       ".dataframe > tbody > tr > td {\n",
       "  text-align: right;\n",
       "}\n",
       "</style>\n",
       "<small>shape: (1, 2)</small><table border=\"1\" class=\"dataframe\"><thead><tr><th>Alignment</th><th>counts</th></tr><tr><td>str</td><td>u32</td></tr></thead><tbody><tr><td>&quot;good&quot;</td><td>496</td></tr></tbody></table></div>"
      ],
      "text/plain": [
       "shape: (1, 2)\n",
       "┌───────────┬────────┐\n",
       "│ Alignment ┆ counts │\n",
       "│ ---       ┆ ---    │\n",
       "│ str       ┆ u32    │\n",
       "╞═══════════╪════════╡\n",
       "│ good      ┆ 496    │\n",
       "└───────────┴────────┘"
      ]
     },
     "execution_count": 6,
     "metadata": {},
     "output_type": "execute_result"
    }
   ],
   "source": [
    "buenos2 = df_p.filter(pl.col('Alignment') == 'good')['Alignment'].value_counts()\n",
    "buenos2"
   ]
  },
  {
   "cell_type": "code",
   "execution_count": null,
   "metadata": {},
   "outputs": [],
   "source": [
    "alignment = df_p.gro"
   ]
  },
  {
   "cell_type": "code",
   "execution_count": 14,
   "metadata": {},
   "outputs": [
    {
     "data": {
      "text/html": [
       "<div><style>\n",
       ".dataframe > thead > tr > th,\n",
       ".dataframe > tbody > tr > td {\n",
       "  text-align: right;\n",
       "}\n",
       "</style>\n",
       "<small>shape: (4, 2)</small><table border=\"1\" class=\"dataframe\"><thead><tr><th>Alignment</th><th>Cantidad</th></tr><tr><td>str</td><td>u32</td></tr></thead><tbody><tr><td>&quot;good&quot;</td><td>496</td></tr><tr><td>&quot;bad&quot;</td><td>207</td></tr><tr><td>&quot;neutral&quot;</td><td>24</td></tr><tr><td>&quot;-&quot;</td><td>7</td></tr></tbody></table></div>"
      ],
      "text/plain": [
       "shape: (4, 2)\n",
       "┌───────────┬──────────┐\n",
       "│ Alignment ┆ Cantidad │\n",
       "│ ---       ┆ ---      │\n",
       "│ str       ┆ u32      │\n",
       "╞═══════════╪══════════╡\n",
       "│ good      ┆ 496      │\n",
       "│ bad       ┆ 207      │\n",
       "│ neutral   ┆ 24       │\n",
       "│ -         ┆ 7        │\n",
       "└───────────┴──────────┘"
      ]
     },
     "execution_count": 14,
     "metadata": {},
     "output_type": "execute_result"
    }
   ],
   "source": [
    "buenosmalos = df_p.groupby('Alignment').agg(pl.col('Alignment').count().alias('Cantidad')).sort('Cantidad', descending=True)\n",
    "buenos_malos"
   ]
  },
  {
   "cell_type": "code",
   "execution_count": 9,
   "metadata": {},
   "outputs": [
    {
     "data": {
      "text/html": [
       "<div><style>\n",
       ".dataframe > thead > tr > th,\n",
       ".dataframe > tbody > tr > td {\n",
       "  text-align: right;\n",
       "}\n",
       "</style>\n",
       "<small>shape: (3, 2)</small><table border=\"1\" class=\"dataframe\"><thead><tr><th>Gender</th><th>Cantidad</th></tr><tr><td>str</td><td>u32</td></tr></thead><tbody><tr><td>&quot;Male&quot;</td><td>505</td></tr><tr><td>&quot;Female&quot;</td><td>200</td></tr><tr><td>&quot;-&quot;</td><td>29</td></tr></tbody></table></div>"
      ],
      "text/plain": [
       "shape: (3, 2)\n",
       "┌────────┬──────────┐\n",
       "│ Gender ┆ Cantidad │\n",
       "│ ---    ┆ ---      │\n",
       "│ str    ┆ u32      │\n",
       "╞════════╪══════════╡\n",
       "│ Male   ┆ 505      │\n",
       "│ Female ┆ 200      │\n",
       "│ -      ┆ 29       │\n",
       "└────────┴──────────┘"
      ]
     },
     "execution_count": 9,
     "metadata": {},
     "output_type": "execute_result"
    }
   ],
   "source": [
    "cant_por_genero = df_p.groupby('Gender').agg(pl.col('Gender').count().alias('Cantidad')).sort('Cantidad', descending=True)\n",
    "cant_por_genero"
   ]
  },
  {
   "cell_type": "code",
   "execution_count": 10,
   "metadata": {},
   "outputs": [
    {
     "ename": "NameError",
     "evalue": "name 'cantidad_buenos_male' is not defined",
     "output_type": "error",
     "traceback": [
      "\u001b[1;31m---------------------------------------------------------------------------\u001b[0m",
      "\u001b[1;31mNameError\u001b[0m                                 Traceback (most recent call last)",
      "Cell \u001b[1;32mIn[10], line 3\u001b[0m\n\u001b[0;32m      1\u001b[0m cant_heroes \u001b[39m=\u001b[39m df_p\u001b[39m.\u001b[39mshape[\u001b[39m0\u001b[39m]\n\u001b[0;32m      2\u001b[0m cant_heroes\n\u001b[1;32m----> 3\u001b[0m cantidad_buenos_male \u001b[39m=\u001b[39m cantidad_buenos_male\u001b[39m.\u001b[39mwith_column(pl\u001b[39m.\u001b[39mcol(\u001b[39m'\u001b[39m\u001b[39mCantidad\u001b[39m\u001b[39m'\u001b[39m)\u001b[39m.\u001b[39mcast(pl\u001b[39m.\u001b[39mInt))\n",
      "\u001b[1;31mNameError\u001b[0m: name 'cantidad_buenos_male' is not defined"
     ]
    }
   ],
   "source": [
    "cant_heroes = df_p.shape[0]\n",
    "cant_heroes\n",
    "cantidad_buenos_male = cantidad_buenos_male.with_column(pl.col('Cantidad').cast(pl.Int))"
   ]
  },
  {
   "cell_type": "code",
   "execution_count": 1,
   "metadata": {},
   "outputs": [
    {
     "ename": "NameError",
     "evalue": "name 'cant_por_genero' is not defined",
     "output_type": "error",
     "traceback": [
      "\u001b[1;31m---------------------------------------------------------------------------\u001b[0m",
      "\u001b[1;31mNameError\u001b[0m                                 Traceback (most recent call last)",
      "Cell \u001b[1;32mIn[1], line 1\u001b[0m\n\u001b[1;32m----> 1\u001b[0m cant_por_genero \u001b[39m=\u001b[39m cant_por_genero\u001b[39m.\u001b[39mwith_columns(pl\u001b[39m.\u001b[39mcol(\u001b[39m'\u001b[39m\u001b[39mCantidad\u001b[39m\u001b[39m'\u001b[39m)\u001b[39m.\u001b[39mcast(pl\u001b[39m.\u001b[39mInt64))\n\u001b[0;32m      2\u001b[0m cant_por_genero\n\u001b[0;32m      3\u001b[0m cant_Hombre \u001b[39m=\u001b[39m cant_por_genero\u001b[39m.\u001b[39mfilter(pl\u001b[39m.\u001b[39mcol(\u001b[39m'\u001b[39m\u001b[39mGender\u001b[39m\u001b[39m'\u001b[39m)\u001b[39m==\u001b[39m\u001b[39m'\u001b[39m\u001b[39mMale\u001b[39m\u001b[39m'\u001b[39m)[\u001b[39m'\u001b[39m\u001b[39mCantidad\u001b[39m\u001b[39m'\u001b[39m]\n",
      "\u001b[1;31mNameError\u001b[0m: name 'cant_por_genero' is not defined"
     ]
    }
   ],
   "source": [
    "\n",
    "cant_por_genero = cant_por_genero.with_columns(pl.col('Cantidad').cast(pl.Int64))\n",
    "cant_por_genero\n",
    "cant_Hombre = cant_por_genero.filter(pl.col('Gender')=='Male')['Cantidad']\n",
    "cant_Mujer = cant_por_genero.filter(pl.col('Gender')=='Female')['Cantidad']\n",
    "cant_Mujer\n",
    "cant_Hombre"
   ]
  },
  {
   "cell_type": "code",
   "execution_count": 102,
   "metadata": {},
   "outputs": [
    {
     "data": {
      "text/plain": [
       "int"
      ]
     },
     "execution_count": 102,
     "metadata": {},
     "output_type": "execute_result"
    }
   ],
   "source": [
    "total_h = cant_Hombre[0]\n",
    "type(total_h)"
   ]
  },
  {
   "cell_type": "code",
   "execution_count": null,
   "metadata": {},
   "outputs": [],
   "source": []
  }
 ],
 "metadata": {
  "kernelspec": {
   "display_name": "Python 3",
   "language": "python",
   "name": "python3"
  },
  "language_info": {
   "codemirror_mode": {
    "name": "ipython",
    "version": 3
   },
   "file_extension": ".py",
   "mimetype": "text/x-python",
   "name": "python",
   "nbconvert_exporter": "python",
   "pygments_lexer": "ipython3",
   "version": "3.11.3"
  },
  "orig_nbformat": 4
 },
 "nbformat": 4,
 "nbformat_minor": 2
}
